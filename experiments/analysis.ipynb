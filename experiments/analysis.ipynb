{
 "cells": [
  {
   "cell_type": "markdown",
   "id": "separate-cleanup",
   "metadata": {},
   "source": [
    "# Analysis of Recorded Data\n",
    "> Run experiments first and save results into \"./data/\" directory"
   ]
  },
  {
   "cell_type": "code",
   "execution_count": null,
   "id": "metropolitan-florist",
   "metadata": {},
   "outputs": [],
   "source": [
    "import sys, os, pickle, time\n",
    "import matplotlib.pyplot as P\n",
    "import pandas as pd\n",
    "import numpy as np\n",
    "import seaborn as sns \n",
    "sys.path.append('../src')\n",
    "from env import gyMBlocks\n",
    "from agent import AGENT, rolling_sum"
   ]
  },
  {
   "cell_type": "code",
   "execution_count": null,
   "id": "olympic-rating",
   "metadata": {},
   "outputs": [],
   "source": [
    "nHIDDEN = sorted(list(map(lambda x: int(x.split('-')[-1]), filter(lambda x: 'nHidden' in x, os.listdir('./data')))))\n",
    "nHIDDEN"
   ]
  },
  {
   "cell_type": "code",
   "execution_count": null,
   "id": "answering-basic",
   "metadata": {},
   "outputs": [],
   "source": [
    "nExp = 10\n",
    "DFs = []\n",
    "EXPs = []\n",
    "for nHidden in nHIDDEN:\n",
    "    filename = f'./data/nHidden-{nHidden}'\n",
    "    EXP = []\n",
    "    for i in range(nExp):\n",
    "        with open(f'{filename}/agent-{i}', 'rb') as f:\n",
    "            EXP.append(pickle.load(f))\n",
    "    data = np.array([rolling_sum(np.array(exp.df.reward), n = 20, normalise=True) for exp in EXP])\n",
    "    dataP = [np.stack([row, np.arange(len(row)), np.repeat(i,len(row)), np.repeat(nHidden,len(row))]).T for i, row in enumerate(data)] # manipulate 2d array for DF-ready\n",
    "    dataD = np.array(dataP).reshape(-1,4) # data for DF = np.array(dataP).reshape(-1,4) # data for DF\n",
    "    df = pd.DataFrame(dataD, columns=['reward', 'episode', 'run', 'nHidden'])\n",
    "    DFs.append(df)\n",
    "    EXPs.append(EXP)"
   ]
  },
  {
   "cell_type": "markdown",
   "id": "after-albany",
   "metadata": {},
   "source": [
    "## Quick Analysis and Play a Game"
   ]
  },
  {
   "cell_type": "code",
   "execution_count": null,
   "id": "accepted-favor",
   "metadata": {},
   "outputs": [],
   "source": [
    "exp = EXPs[-1][-1]"
   ]
  },
  {
   "cell_type": "code",
   "execution_count": null,
   "id": "79442168",
   "metadata": {},
   "outputs": [],
   "source": [
    "np.unique(exp.getTabularPolicy(plot=False)[:,1],return_counts=True)"
   ]
  },
  {
   "cell_type": "code",
   "execution_count": null,
   "id": "instructional-mount",
   "metadata": {},
   "outputs": [],
   "source": [
    "exp.play(envSize = 8, nRobots = 8)\n",
    "# exp.plot(nBin = 50, normalise = True)\n",
    "# exp.saveDF(filename='./data/dataframe-1.pickle')"
   ]
  },
  {
   "cell_type": "code",
   "execution_count": null,
   "id": "9a615ebc",
   "metadata": {},
   "outputs": [],
   "source": [
    "sns.set_context(\"talk\", font_scale=1.1)\n",
    "exp.getTabularPolicy(plot=True)"
   ]
  }
 ],
 "metadata": {
  "kernelspec": {
   "display_name": "Python 3",
   "language": "python",
   "name": "python3"
  },
  "language_info": {
   "codemirror_mode": {
    "name": "ipython",
    "version": 3
   },
   "file_extension": ".py",
   "mimetype": "text/x-python",
   "name": "python",
   "nbconvert_exporter": "python",
   "pygments_lexer": "ipython3",
   "version": "3.8.7"
  }
 },
 "nbformat": 4,
 "nbformat_minor": 5
}
