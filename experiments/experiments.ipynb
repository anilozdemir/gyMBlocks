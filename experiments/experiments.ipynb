{
 "cells": [
  {
   "cell_type": "markdown",
   "id": "social-indiana",
   "metadata": {},
   "source": [
    "# Experiments for a Single Run\n",
    "> Can use the executable script (`run-experiments.py`) for faster execution"
   ]
  },
  {
   "cell_type": "code",
   "execution_count": null,
   "id": "rental-target",
   "metadata": {},
   "outputs": [],
   "source": [
    "import sys, os, pickle, time\n",
    "import pandas as pd\n",
    "from joblib import Parallel, delayed\n",
    "sys.path.append('../src')\n",
    "from env import gyMBlocks\n",
    "from agent import AGENT"
   ]
  },
  {
   "cell_type": "markdown",
   "id": "exclusive-services",
   "metadata": {},
   "source": [
    "## Variable to Test: `nHidden`"
   ]
  },
  {
   "cell_type": "code",
   "execution_count": null,
   "id": "passing-palace",
   "metadata": {},
   "outputs": [],
   "source": [
    "ALLHIDDEN = [16, 32, 64, 128, 256, 512] # list of values to test\n",
    "nHidden   = 32"
   ]
  },
  {
   "cell_type": "markdown",
   "id": "flexible-reggae",
   "metadata": {},
   "source": [
    "## Run In Parallel (with Joblib)"
   ]
  },
  {
   "cell_type": "code",
   "execution_count": null,
   "id": "assisted-religion",
   "metadata": {},
   "outputs": [],
   "source": [
    "envSize  = 5\n",
    "nRobot   = 6\n",
    "lR       = 0.001\n",
    "nEpisode = 3000\n",
    "gamma    = 0.99\n",
    "maxIter  = 2000\n",
    "rewType  = 1\n",
    "def runAgent():\n",
    "    exp = AGENT(envSize, nRobot, nHidden, lR, maxIter = maxIter, rewardType=rewType)\n",
    "    exp.reinforce(nEpisode, gamma, returnDF=False);\n",
    "    return exp"
   ]
  },
  {
   "cell_type": "code",
   "execution_count": null,
   "id": "loving-being",
   "metadata": {},
   "outputs": [],
   "source": [
    "nExp = 10\n",
    "st = time.time()\n",
    "EXP  = Parallel(n_jobs=min(20,nExp),verbose=20)(delayed(runAgent)() for _ in range(nExp))\n",
    "fn = time.time()\n",
    "print(f'It took {fn-st:.3f}s')"
   ]
  },
  {
   "cell_type": "code",
   "execution_count": null,
   "id": "sharing-election",
   "metadata": {},
   "outputs": [],
   "source": [
    "# Save all data\n",
    "filename = f'./data/nHidden-{nHidden}'\n",
    "\n",
    "if not os.path.exists(filename): os.makedirs(filename)\n",
    "    \n",
    "for i in range(nExp):\n",
    "    EXP[i].df.to_pickle(f\"{filename}/df-{i}.pkl\")\n",
    "    with open(f'{filename}/agent-{i}', 'wb') as f:\n",
    "        pickle.dump(EXP[i],f)    "
   ]
  }
 ],
 "metadata": {
  "kernelspec": {
   "display_name": "Python 3",
   "language": "python",
   "name": "python3"
  },
  "language_info": {
   "codemirror_mode": {
    "name": "ipython",
    "version": 3
   },
   "file_extension": ".py",
   "mimetype": "text/x-python",
   "name": "python",
   "nbconvert_exporter": "python",
   "pygments_lexer": "ipython3",
   "version": "3.8.7"
  }
 },
 "nbformat": 4,
 "nbformat_minor": 5
}
