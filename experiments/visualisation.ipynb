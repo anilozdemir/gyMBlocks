{
 "cells": [
  {
   "cell_type": "markdown",
   "id": "secondary-monitor",
   "metadata": {},
   "source": [
    "# Visualisation and Plotting of Experiments\n",
    "> Run experiments first and save results into \"./data/\" directory"
   ]
  },
  {
   "cell_type": "code",
   "execution_count": null,
   "id": "pressing-training",
   "metadata": {},
   "outputs": [],
   "source": [
    "import sys, os, pickle\n",
    "import matplotlib.pyplot as P\n",
    "import pandas as pd\n",
    "import numpy as np\n",
    "import seaborn as sns \n",
    "sys.path.append('../src')\n",
    "from agent import AGENT, rolling_sum"
   ]
  },
  {
   "cell_type": "code",
   "execution_count": null,
   "id": "independent-graphics",
   "metadata": {},
   "outputs": [],
   "source": [
    "nHIDDEN = sorted(list(map(lambda x: int(x.split('-')[-1]), filter(lambda x: 'nHidden' in x, os.listdir('./data')))))\n",
    "print(nHIDDEN)"
   ]
  },
  {
   "cell_type": "code",
   "execution_count": null,
   "id": "outer-recipe",
   "metadata": {},
   "outputs": [],
   "source": [
    "nExp = 10\n",
    "DFs  = []\n",
    "for nHidden in nHIDDEN:\n",
    "    filename = f'./data/nHidden-{nHidden}'\n",
    "    EXP = []\n",
    "    for i in range(nExp):\n",
    "        with open(f'{filename}/agent-{i}', 'rb') as f:\n",
    "            EXP.append(pickle.load(f))\n",
    "    data = np.array([rolling_sum(np.array(exp.df.reward), n = 20, normalise=True) for exp in EXP])\n",
    "    dataP = [np.stack([row, np.arange(len(row)), np.repeat(i,len(row)), np.repeat(nHidden,len(row))]).T for i, row in enumerate(data)] # manipulate 2d array for DF-ready\n",
    "    dataD = np.array(dataP).reshape(-1,4) # data for DF = np.array(dataP).reshape(-1,4) # data for DF\n",
    "    df = pd.DataFrame(dataD, columns=['reward', 'episode', 'run', 'nHidden'])\n",
    "    DFs.append(df)"
   ]
  },
  {
   "cell_type": "code",
   "execution_count": null,
   "id": "dated-asian",
   "metadata": {},
   "outputs": [],
   "source": [
    "df         = pd.concat(DFs)\n",
    "df.run     = df.run.astype('int64')\n",
    "df.episode = df.episode.astype('int64')\n",
    "df.nHidden = df.nHidden.astype('int64')\n",
    "df"
   ]
  },
  {
   "cell_type": "code",
   "execution_count": null,
   "id": "together-rebate",
   "metadata": {},
   "outputs": [],
   "source": [
    "sns.set_context(\"talk\", font_scale=1.1)\n",
    "palette = sns.cubehelix_palette(n_colors=len(nHIDDEN), start=2.1, rot=1, dark=0.25, light=0.7)\n",
    "\n",
    "P.figure(figsize=(8,6))\n",
    "sns.lineplot(data=df, x='episode', y='reward', hue='nHidden',ci=None, palette = palette);\n",
    "P.savefig('./figs/reward-plot-nHidden-1.png',dpi=300, bbox_inches = 'tight', pad_inches = 0)"
   ]
  }
 ],
 "metadata": {
  "kernelspec": {
   "display_name": "Python 3",
   "language": "python",
   "name": "python3"
  },
  "language_info": {
   "codemirror_mode": {
    "name": "ipython",
    "version": 3
   },
   "file_extension": ".py",
   "mimetype": "text/x-python",
   "name": "python",
   "nbconvert_exporter": "python",
   "pygments_lexer": "ipython3",
   "version": "3.8.7"
  }
 },
 "nbformat": 4,
 "nbformat_minor": 5
}
